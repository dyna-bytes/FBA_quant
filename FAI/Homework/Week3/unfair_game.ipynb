{
 "cells": [
  {
   "cell_type": "markdown",
   "metadata": {},
   "source": [
    "Problem 2. \n",
    "There is a fair coin that has an equal probability of landing heads or tails (50:50). You are a casino manager, and you want to design a game that uses this coin. The game must be slightly advantageous to the casino, with a winning ratio of each individual game not exceeding 60%.\n",
    "\n",
    "(a) Design a game using the fair coin that satisfies the above condition.  \n",
    "(b) Unfortunately, some sneaky players want to cheat on you by using a rigged coin that has a higher probability of landing heads (55%). Can you detect if they are using a cheating coin? If so, how?  \n",
    "(c) Write a Python code that simulates both problem 2-(a) and 2-(b)"
   ]
  },
  {
   "cell_type": "markdown",
   "metadata": {},
   "source": [
    "Solution.  \n",
    "[Penny Game]\n",
    "* Dealer and Player take turns flipping a coin\n",
    "* The first person to get two heads in a row wins.\n",
    "* The Dealer always starts first."
   ]
  },
  {
   "cell_type": "markdown",
   "metadata": {},
   "source": [
    "Expected Winning Ratio\n",
    "\n",
    "The probability of getting one step ahead during one's turn (assuming that winning one step is considered progress, and to achieve final victory, one must win two steps)\n",
    "$$\n",
    "p = 1/2 + 1/2^3 + 1/2^5 + ... = 2/3\n",
    "$$\n",
    "\n",
    "If the dealer wins one step during their turn, and the player loses one step during their turn, the dealer acquires two heads, achieving final victory.\n",
    "- *Win Win:* $p(1-p)$\n",
    "\n",
    "If the dealer wins one step during their turn, and the player wins one step during their turn, the dealer must win one more step during the subsequent turn to achieve final victory. \n",
    "- *Win Lose Win:* $p^3$\n",
    "\n",
    "If the dealer fails to win during their turn, and the player also fails to win during their turn, if the dealer wins during the subsequent turn, they achieve final victory.  \n",
    "- *Lose Win Win:* $(1-p)^2p$ \n",
    "\n",
    "$$\\therefore  6/27 + 8/27 + 2/27 = 16/27 = 0.59259$$"
   ]
  },
  {
   "cell_type": "markdown",
   "metadata": {},
   "source": [
    "Expected Winning Ratio\n",
    "\n",
    "자기 차례에서 앞면이 한 번 나올 확률 (앞면이 한 번 나오면 한 스탭을 이겼다고 하자. 최종 우승 하기 위해서는 두 스탭을 이겨야 함.)\n",
    "$$\n",
    "p = 1/2 + 1/2^3 + 1/2^5 + ... = 2/3\n",
    "$$\n",
    "\n",
    "딜러가 자기 차례에서 한 스탭의 우승을 하고, 플레이어가 자기 차례에서 한 스텝의 패를 하면, 딜러는 앞면을 두 번 획득하여 최종 우승을 함.  \n",
    "- *Win Win:* $p(1-p)$\n",
    "\n",
    "딜러가 자기 차례에서 한 스탭의 우승을 하고, 플레이어가 자기 차례에서 한 스탭의 우승을 하면, 딜러는 그 다음 차례에서 또 한 스탭의 우승을 해야 최종 우승을 함.  \n",
    "- *Win Lose Win:* $p^3$\n",
    "\n",
    "딜러가 자기 차례에서 우승을 하지 못하고, 플레이어가 자기 차례에서 우승을 하지 못한 후, 딜러가 그 다음 차례에서 우승을 하면 최종 우승을 함.  \n",
    "- *Lose Win Win:* $(1-p)^2p$ \n",
    "\n",
    "$$\\therefore  6/27 + 8/27 + 2/27 = 16/27 = 0.59259$$"
   ]
  },
  {
   "attachments": {
    "image.png": {
     "image/png": "[encoded data removed]"
    }
   },
   "cell_type": "markdown",
   "metadata": {},
   "source": [
    "![image.png](attachment:image.png)"
   ]
  },
  {
   "cell_type": "code",
   "execution_count": 3,
   "metadata": {},
   "outputs": [],
   "source": [
    "import random"
   ]
  },
  {
   "cell_type": "code",
   "execution_count": 4,
   "metadata": {},
   "outputs": [],
   "source": [
    "class Coin:\n",
    "    def __init__(self, biased:float=0):\n",
    "        self.biased = biased\n",
    "        \n",
    "    def toss(self)->str:\n",
    "        return 'H' if random.gauss(self.biased, 1.0) > 0 else 'T'\n",
    "\n",
    "class Player():\n",
    "    def __init__(self):\n",
    "        self.num_heads = 0\n",
    "        self.num_wins = 0\n",
    "\n",
    "    def init_status(self):\n",
    "        self.num_heads = 0\n",
    "\n",
    "    def is_winner(self)->bool:\n",
    "        return self.num_heads >= 2\n",
    "\n",
    "    def toss(self, coin: Coin()):\n",
    "        if coin.toss() == 'H':\n",
    "            self.num_heads += 1\n",
    "            return 'H'\n",
    "        return 'T'\n",
    "\n",
    "def watchdog(dealer: Player(), player: Player(), threshold:float=0.5):\n",
    "    if dealer.num_wins+player.num_wins == 0: return False\n",
    "    \n",
    "    winning_ratio = dealer.num_wins/(dealer.num_wins+player.num_wins) \n",
    "    if winning_ratio < threshold: return True\n",
    "    return False\n",
    "\n",
    "def game(coin: Coin(), dealer: Player(), player: Player()):\n",
    "    dealer.init_status()\n",
    "    player.init_status()\n",
    "\n",
    "    round = 0\n",
    "    while True:\n",
    "        round += 1\n",
    "\n",
    "        dealer.toss(coin)\n",
    "        if dealer.is_winner():\n",
    "            # print(f\"Dealer wins by {round} rounds\")\n",
    "            dealer.num_wins += 1\n",
    "            return True\n",
    "\n",
    "        player.toss(coin)\n",
    "        if player.is_winner():\n",
    "            # print(f\"Player wins by {round} rounds\")\n",
    "            player.num_wins += 1\n",
    "            return False\n",
    "\n",
    "        if watchdog(dealer, player):\n",
    "            print(f\"Watchdog works\")\n",
    "            return False\n"
   ]
  },
  {
   "cell_type": "code",
   "execution_count": 5,
   "metadata": {},
   "outputs": [
    {
     "name": "stdout",
     "output_type": "stream",
     "text": [
      "dealer: 59297\n",
      "player: 40703\n",
      "p = 0.59297\n"
     ]
    }
   ],
   "source": [
    "coin = Coin()\n",
    "dealer = Player()\n",
    "player = Player()\n",
    "for i in range(100000):\n",
    "    game(coin, dealer, player)\n",
    "\n",
    "print(f\"dealer: {dealer.num_wins}\")\n",
    "print(f\"player: {player.num_wins}\")\n",
    "print(f\"p = {dealer.num_wins/(dealer.num_wins+player.num_wins)}\")"
   ]
  },
  {
   "cell_type": "code",
   "execution_count": null,
   "metadata": {},
   "outputs": [],
   "source": []
  }
 ],
 "metadata": {
  "kernelspec": {
   "display_name": "fba",
   "language": "python",
   "name": "python3"
  },
  "language_info": {
   "codemirror_mode": {
    "name": "ipython",
    "version": 3
   },
   "file_extension": ".py",
   "mimetype": "text/x-python",
   "name": "python",
   "nbconvert_exporter": "python",
   "pygments_lexer": "ipython3",
   "version": "3.7.16"
  },
  "orig_nbformat": 4
 },
 "nbformat": 4,
 "nbformat_minor": 2
}
