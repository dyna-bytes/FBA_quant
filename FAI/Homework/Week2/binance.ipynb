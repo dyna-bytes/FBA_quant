{
 "cells": [
  {
   "cell_type": "code",
   "execution_count": 258,
   "metadata": {},
   "outputs": [],
   "source": [
    "from abc import abstractmethod\n",
    "import requests\n",
    "from bs4 import BeautifulSoup as bs\n",
    "import pandas as pd\n",
    "from pandas import DataFrame\n",
    "from datetime import datetime, timedelta\n",
    "import time\n",
    "import zipfile, io"
   ]
  },
  {
   "cell_type": "code",
   "execution_count": 263,
   "metadata": {},
   "outputs": [],
   "source": [
    "class Get:\n",
    "    def __init__(self):\n",
    "        self.headers = {\"User-Agent\": \"Mozilla/5.0\"}\n",
    "\n",
    "    def read(self, **params) -> str:\n",
    "        try:\n",
    "            url = self.url()\n",
    "        except:\n",
    "            url = self.url\n",
    "        print(url)\n",
    "        resp = requests.get(url, headers=self.headers, params=params)\n",
    "        return resp.text"
   ]
  },
  {
   "cell_type": "code",
   "execution_count": 264,
   "metadata": {},
   "outputs": [],
   "source": [
    "class WebAPI(Get):\n",
    "    def read(self, **params) -> str:\n",
    "        params.update(delimiter=self.delimiter, prefix=self.prefix)\n",
    "        return super().read(**params)\n",
    "    \n",
    "    @property\n",
    "    def delimiter(self):\n",
    "        return '/'\n",
    "\n",
    "    @property\n",
    "    @abstractmethod\n",
    "    def prefix(self):\n",
    "        return NotImplementedError"
   ]
  },
  {
   "cell_type": "code",
   "execution_count": 265,
   "metadata": {},
   "outputs": [],
   "source": [
    "class USDT_kline(WebAPI):\n",
    "    url_str = 'https://s3-ap-northeast-1.amazonaws.com/data.binance.vision?delimiter=/&prefix=data/futures/um/daily/klines/'\n",
    "    prefix_str = 'data/futures/um/daily/klines/'\n",
    "    \n",
    "    def load(self, symbol: str):\n",
    "        self.url_str = USDT_kline.url_str + symbol + '/1d/'\n",
    "        self.prefix_str = USDT_kline.prefix_str + symbol + '/1d/'\n",
    "        result = self.read()\n",
    "        soup = bs(result, \"xml\")\n",
    "        elements = soup.select('Key')\n",
    "        klines = [element.text for element in elements if element.text.find('.CHECKSUM') is -1]\n",
    "        files = [kline.replace(self.prefix_str, '').replace('.zip', '.csv') for kline in klines]\n",
    "        \n",
    "        columns = [chr(code) for code in range(65,77)]\n",
    "        columns.insert(0, 'USDT_name')\n",
    "        \n",
    "        result = pd.DataFrame(columns=columns)\n",
    "        i = 0\n",
    "        for kline, file in zip(klines, files):\n",
    "            time.sleep(0.5)\n",
    "            url = \"https://data.binance.vision/\" + kline\n",
    "            resp = requests.get(url, verify=False, stream=True)\n",
    "            z = zipfile.ZipFile(io.BytesIO(resp.content))\n",
    "            z.extractall(\"./USDT/\")\n",
    "            df = pd.read_csv('./USDT/'+file)\n",
    "            row = [*df.keys()]\n",
    "            row.insert(0, file.replace('.csv', ''))\n",
    "            result.loc[i] = row\n",
    "            i+=1\n",
    "            if i == 5: break\n",
    "        return result\n",
    "\n",
    "    def url(self):\n",
    "        return self.url_str\n",
    "\n",
    "    def prefix(self):\n",
    "        return self.prefix_str"
   ]
  },
  {
   "cell_type": "code",
   "execution_count": 269,
   "metadata": {},
   "outputs": [],
   "source": [
    "class USDT_list(WebAPI):\n",
    "    def load(self):\n",
    "        result = self.read()\n",
    "        soup = bs(result, \"xml\")\n",
    "        elements = soup.select('Prefix')\n",
    "        symbols = [element.text for element in elements]\n",
    "        return symbols\n",
    "\n",
    "    @property\n",
    "    def url(self):\n",
    "        return \"https://s3-ap-northeast-1.amazonaws.com/data.binance.vision?delimiter=/&prefix=data/futures/um/daily/klines/\"\n",
    "\n",
    "    def prefix(self):\n",
    "        return 'data/futures/um/daily/klines/'"
   ]
  },
  {
   "cell_type": "code",
   "execution_count": 271,
   "metadata": {},
   "outputs": [],
   "source": [
    "class PublicData:\n",
    "    def __init__(self):\n",
    "        self.USDT_kline = USDT_kline()\n",
    "        self.USDT_list = USDT_list()"
   ]
  },
  {
   "cell_type": "code",
   "execution_count": 273,
   "metadata": {},
   "outputs": [
    {
     "name": "stdout",
     "output_type": "stream",
     "text": [
      "https://s3-ap-northeast-1.amazonaws.com/data.binance.vision?delimiter=/&prefix=data/futures/um/daily/klines/\n",
      "['data/futures/um/daily/klines/', 'data/futures/um/daily/klines/1000BTTCUSDT/', 'data/futures/um/daily/klines/1000FLOKIUSDT/', 'data/futures/um/daily/klines/1000LUNCBUSD/', 'data/futures/um/daily/klines/1000LUNCUSDT/', 'data/futures/um/daily/klines/1000PEPEUSDT/', 'data/futures/um/daily/klines/1000SHIBBUSD/', 'data/futures/um/daily/klines/1000SHIBUSDT/', 'data/futures/um/daily/klines/1000XECUSDT/', 'data/futures/um/daily/klines/1INCHUSDT/', 'data/futures/um/daily/klines/AAVEUSDT/', 'data/futures/um/daily/klines/ACHUSDT/', 'data/futures/um/daily/klines/ADABUSD/', 'data/futures/um/daily/klines/ADAUSDT/', 'data/futures/um/daily/klines/AGIXBUSD/', 'data/futures/um/daily/klines/AGIXUSDT/', 'data/futures/um/daily/klines/AGLDUSDT/', 'data/futures/um/daily/klines/AKROUSDT/', 'data/futures/um/daily/klines/ALGOUSDT/', 'data/futures/um/daily/klines/ALICEUSDT/', 'data/futures/um/daily/klines/ALPHAUSDT/', 'data/futures/um/daily/klines/AMBBUSD/', 'data/futures/um/daily/klines/AMBUSDT/', 'data/futures/um/daily/klines/ANCBUSD/', 'data/futures/um/daily/klines/ANCUSDT/', 'data/futures/um/daily/klines/ANKRUSDT/', 'data/futures/um/daily/klines/ANTUSDT/', 'data/futures/um/daily/klines/APEBUSD/', 'data/futures/um/daily/klines/APEUSDT/', 'data/futures/um/daily/klines/API3USDT/', 'data/futures/um/daily/klines/APTBUSD/', 'data/futures/um/daily/klines/APTUSDT/', 'data/futures/um/daily/klines/ARBUSDT/', 'data/futures/um/daily/klines/ARKMUSDT/', 'data/futures/um/daily/klines/ARPAUSDT/', 'data/futures/um/daily/klines/ARUSDT/', 'data/futures/um/daily/klines/ASTRUSDT/', 'data/futures/um/daily/klines/ATAUSDT/', 'data/futures/um/daily/klines/ATOMUSDT/', 'data/futures/um/daily/klines/AUCTIONBUSD/', 'data/futures/um/daily/klines/AUDIOUSDT/', 'data/futures/um/daily/klines/AVAXBUSD/', 'data/futures/um/daily/klines/AVAXUSDT/', 'data/futures/um/daily/klines/AXSUSDT/', 'data/futures/um/daily/klines/BAKEUSDT/', 'data/futures/um/daily/klines/BALUSDT/', 'data/futures/um/daily/klines/BANDUSDT/', 'data/futures/um/daily/klines/BATUSDT/', 'data/futures/um/daily/klines/BCHUSDT/', 'data/futures/um/daily/klines/BELUSDT/', 'data/futures/um/daily/klines/BLUEBIRDUSDT/', 'data/futures/um/daily/klines/BLURUSDT/', 'data/futures/um/daily/klines/BLZUSDT/', 'data/futures/um/daily/klines/BNBBUSD/', 'data/futures/um/daily/klines/BNBUSDT/', 'data/futures/um/daily/klines/BNTUSDT/', 'data/futures/um/daily/klines/BNXUSDT/', 'data/futures/um/daily/klines/BNXUSDTSETTLED/', 'data/futures/um/daily/klines/BTCBUSD/', 'data/futures/um/daily/klines/BTCBUSD_210129/', 'data/futures/um/daily/klines/BTCBUSD_210226/', 'data/futures/um/daily/klines/BTCDOMUSDT/', 'data/futures/um/daily/klines/BTCSTUSDT/', 'data/futures/um/daily/klines/BTCUSDT/', 'data/futures/um/daily/klines/BTCUSDT_210326/', 'data/futures/um/daily/klines/BTCUSDT_210625/', 'data/futures/um/daily/klines/BTCUSDT_210924/', 'data/futures/um/daily/klines/BTCUSDT_211231/', 'data/futures/um/daily/klines/BTCUSDT_220325/', 'data/futures/um/daily/klines/BTCUSDT_220624/', 'data/futures/um/daily/klines/BTCUSDT_220930/', 'data/futures/um/daily/klines/BTCUSDT_221230/', 'data/futures/um/daily/klines/BTCUSDT_230331/', 'data/futures/um/daily/klines/BTCUSDT_230630/', 'data/futures/um/daily/klines/BTCUSDT_230929/', 'data/futures/um/daily/klines/BTCUSDT_231229/', 'data/futures/um/daily/klines/BTSUSDT/', 'data/futures/um/daily/klines/BTTUSDT/', 'data/futures/um/daily/klines/BZRXUSDT/', 'data/futures/um/daily/klines/C98USDT/', 'data/futures/um/daily/klines/CELOUSDT/', 'data/futures/um/daily/klines/CELRUSDT/', 'data/futures/um/daily/klines/CFXUSDT/', 'data/futures/um/daily/klines/CHRUSDT/', 'data/futures/um/daily/klines/CHZUSDT/', 'data/futures/um/daily/klines/CKBUSDT/', 'data/futures/um/daily/klines/COCOSUSDT/', 'data/futures/um/daily/klines/COMBOUSDT/', 'data/futures/um/daily/klines/COMPUSDT/', 'data/futures/um/daily/klines/COTIUSDT/', 'data/futures/um/daily/klines/CRVUSDT/', 'data/futures/um/daily/klines/CTKUSDT/', 'data/futures/um/daily/klines/CTSIUSDT/', 'data/futures/um/daily/klines/CVCUSDT/', 'data/futures/um/daily/klines/CVXBUSD/', 'data/futures/um/daily/klines/CVXUSDT/', 'data/futures/um/daily/klines/DARUSDT/', 'data/futures/um/daily/klines/DASHUSDT/', 'data/futures/um/daily/klines/DEFIUSDT/', 'data/futures/um/daily/klines/DENTUSDT/', 'data/futures/um/daily/klines/DGBUSDT/', 'data/futures/um/daily/klines/DODOBUSD/', 'data/futures/um/daily/klines/DODOUSDT/', 'data/futures/um/daily/klines/DODOXUSDT/', 'data/futures/um/daily/klines/DOGEBUSD/', 'data/futures/um/daily/klines/DOGEUSDT/', 'data/futures/um/daily/klines/DOTBUSD/', 'data/futures/um/daily/klines/DOTECOUSDT/', 'data/futures/um/daily/klines/DOTUSDT/', 'data/futures/um/daily/klines/DUSKUSDT/', 'data/futures/um/daily/klines/DYDXUSDT/', 'data/futures/um/daily/klines/EDUUSDT/', 'data/futures/um/daily/klines/EGLDUSDT/', 'data/futures/um/daily/klines/ENJUSDT/', 'data/futures/um/daily/klines/ENSUSDT/', 'data/futures/um/daily/klines/EOSUSDT/', 'data/futures/um/daily/klines/ETCBUSD/', 'data/futures/um/daily/klines/ETCUSDT/', 'data/futures/um/daily/klines/ETHBTC/', 'data/futures/um/daily/klines/ETHBUSD/', 'data/futures/um/daily/klines/ETHUSDT/', 'data/futures/um/daily/klines/ETHUSDT_210326/', 'data/futures/um/daily/klines/ETHUSDT_210625/', 'data/futures/um/daily/klines/ETHUSDT_210924/', 'data/futures/um/daily/klines/ETHUSDT_211231/', 'data/futures/um/daily/klines/ETHUSDT_220325/', 'data/futures/um/daily/klines/ETHUSDT_220624/', 'data/futures/um/daily/klines/ETHUSDT_220930/', 'data/futures/um/daily/klines/ETHUSDT_221230/', 'data/futures/um/daily/klines/ETHUSDT_230331/', 'data/futures/um/daily/klines/ETHUSDT_230630/', 'data/futures/um/daily/klines/ETHUSDT_230929/', 'data/futures/um/daily/klines/ETHUSDT_231229/', 'data/futures/um/daily/klines/FETUSDT/', 'data/futures/um/daily/klines/FILBUSD/', 'data/futures/um/daily/klines/FILUSDT/', 'data/futures/um/daily/klines/FLMUSDT/', 'data/futures/um/daily/klines/FLOWUSDT/', 'data/futures/um/daily/klines/FOOTBALLUSDT/', 'data/futures/um/daily/klines/FTMBUSD/', 'data/futures/um/daily/klines/FTMUSDT/', 'data/futures/um/daily/klines/FTTBUSD/', 'data/futures/um/daily/klines/FTTUSDT/', 'data/futures/um/daily/klines/FXSUSDT/', 'data/futures/um/daily/klines/GALABUSD/', 'data/futures/um/daily/klines/GALAUSDT/', 'data/futures/um/daily/klines/GALBUSD/', 'data/futures/um/daily/klines/GALUSDT/', 'data/futures/um/daily/klines/GMTBUSD/', 'data/futures/um/daily/klines/GMTUSDT/', 'data/futures/um/daily/klines/GMXUSDT/', 'data/futures/um/daily/klines/GRTUSDT/', 'data/futures/um/daily/klines/GTCUSDT/', 'data/futures/um/daily/klines/HBARUSDT/', 'data/futures/um/daily/klines/HFTUSDT/', 'data/futures/um/daily/klines/HIGHUSDT/', 'data/futures/um/daily/klines/HNTUSDT/', 'data/futures/um/daily/klines/HOOKUSDT/', 'data/futures/um/daily/klines/HOTUSDT/', 'data/futures/um/daily/klines/ICPBUSD/', 'data/futures/um/daily/klines/ICPUSDT/', 'data/futures/um/daily/klines/ICPUSDT_SETTLED/', 'data/futures/um/daily/klines/ICXUSDT/', 'data/futures/um/daily/klines/IDEXUSDT/', 'data/futures/um/daily/klines/IDUSDT/', 'data/futures/um/daily/klines/IMXUSDT/', 'data/futures/um/daily/klines/INJUSDT/', 'data/futures/um/daily/klines/IOSTUSDT/', 'data/futures/um/daily/klines/IOTAUSDT/', 'data/futures/um/daily/klines/IOTXUSDT/', 'data/futures/um/daily/klines/JASMYUSDT/', 'data/futures/um/daily/klines/JOEUSDT/', 'data/futures/um/daily/klines/KAVAUSDT/', 'data/futures/um/daily/klines/KEEPUSDT/', 'data/futures/um/daily/klines/KEYUSDT/', 'data/futures/um/daily/klines/KLAYUSDT/', 'data/futures/um/daily/klines/KNCUSDT/', 'data/futures/um/daily/klines/KSMUSDT/', 'data/futures/um/daily/klines/LDOBUSD/', 'data/futures/um/daily/klines/LDOUSDT/', 'data/futures/um/daily/klines/LENDUSDT/', 'data/futures/um/daily/klines/LEVERBUSD/', 'data/futures/um/daily/klines/LEVERUSDT/', 'data/futures/um/daily/klines/LINAUSDT/', 'data/futures/um/daily/klines/LINKBUSD/', 'data/futures/um/daily/klines/LINKUSDT/', 'data/futures/um/daily/klines/LITUSDT/', 'data/futures/um/daily/klines/LPTUSDT/', 'data/futures/um/daily/klines/LQTYUSDT/', 'data/futures/um/daily/klines/LRCUSDT/', 'data/futures/um/daily/klines/LTCBUSD/', 'data/futures/um/daily/klines/LTCUSDT/', 'data/futures/um/daily/klines/LUNA2BUSD/', 'data/futures/um/daily/klines/LUNA2USDT/', 'data/futures/um/daily/klines/LUNABUSD/', 'data/futures/um/daily/klines/LUNAUSDT/', 'data/futures/um/daily/klines/MAGICUSDT/', 'data/futures/um/daily/klines/MANAUSDT/', 'data/futures/um/daily/klines/MASKUSDT/', 'data/futures/um/daily/klines/MATICBUSD/', 'data/futures/um/daily/klines/MATICUSDT/', 'data/futures/um/daily/klines/MAVUSDT/', 'data/futures/um/daily/klines/MDTUSDT/', 'data/futures/um/daily/klines/MINAUSDT/', 'data/futures/um/daily/klines/MINAUSDTSETTLED/', 'data/futures/um/daily/klines/MKRUSDT/', 'data/futures/um/daily/klines/MTLUSDT/', 'data/futures/um/daily/klines/NEARBUSD/', 'data/futures/um/daily/klines/NEARUSDT/', 'data/futures/um/daily/klines/NEOUSDT/', 'data/futures/um/daily/klines/NKNUSDT/', 'data/futures/um/daily/klines/NMRUSDT/', 'data/futures/um/daily/klines/NUUSDT/', 'data/futures/um/daily/klines/OCEANUSDT/', 'data/futures/um/daily/klines/OGNUSDT/', 'data/futures/um/daily/klines/OMGUSDT/', 'data/futures/um/daily/klines/ONEUSDT/', 'data/futures/um/daily/klines/ONTUSDT/', 'data/futures/um/daily/klines/OPUSDT/', 'data/futures/um/daily/klines/OXTUSDT/', 'data/futures/um/daily/klines/PENDLEUSDT/', 'data/futures/um/daily/klines/PEOPLEUSDT/', 'data/futures/um/daily/klines/PERPUSDT/', 'data/futures/um/daily/klines/PHBBUSD/', 'data/futures/um/daily/klines/PHBUSDT/', 'data/futures/um/daily/klines/QNTUSDT/', 'data/futures/um/daily/klines/QTUMUSDT/', 'data/futures/um/daily/klines/RADUSDT/', 'data/futures/um/daily/klines/RAYUSDT/', 'data/futures/um/daily/klines/RDNTUSDT/', 'data/futures/um/daily/klines/REEFUSDT/', 'data/futures/um/daily/klines/RENUSDT/', 'data/futures/um/daily/klines/RLCUSDT/', 'data/futures/um/daily/klines/RNDRUSDT/', 'data/futures/um/daily/klines/ROSEUSDT/', 'data/futures/um/daily/klines/RSRUSDT/', 'data/futures/um/daily/klines/RUNEUSDT/', 'data/futures/um/daily/klines/RVNUSDT/', 'data/futures/um/daily/klines/SANDBUSD/', 'data/futures/um/daily/klines/SANDUSDT/', 'data/futures/um/daily/klines/SCUSDT/', 'data/futures/um/daily/klines/SEIUSDT/', 'data/futures/um/daily/klines/SFPUSDT/', 'data/futures/um/daily/klines/SKLUSDT/', 'data/futures/um/daily/klines/SNXUSDT/', 'data/futures/um/daily/klines/SOLBUSD/', 'data/futures/um/daily/klines/SOLUSDT/', 'data/futures/um/daily/klines/SPELLUSDT/', 'data/futures/um/daily/klines/SRMUSDT/', 'data/futures/um/daily/klines/SSVUSDT/', 'data/futures/um/daily/klines/STGUSDT/', 'data/futures/um/daily/klines/STMXUSDT/', 'data/futures/um/daily/klines/STORJUSDT/', 'data/futures/um/daily/klines/STXUSDT/', 'data/futures/um/daily/klines/SUIUSDT/', 'data/futures/um/daily/klines/SUSHIUSDT/', 'data/futures/um/daily/klines/SXPUSDT/', 'data/futures/um/daily/klines/THETAUSDT/', 'data/futures/um/daily/klines/TLMBUSD/', 'data/futures/um/daily/klines/TLMUSDT/', 'data/futures/um/daily/klines/TLMUSDTSETTLED/', 'data/futures/um/daily/klines/TOMOUSDT/', 'data/futures/um/daily/klines/TRBUSDT/', 'data/futures/um/daily/klines/TRUUSDT/', 'data/futures/um/daily/klines/TRXBUSD/', 'data/futures/um/daily/klines/TRXUSDT/', 'data/futures/um/daily/klines/TUSDT/', 'data/futures/um/daily/klines/UMAUSDT/', 'data/futures/um/daily/klines/UNFIUSDT/', 'data/futures/um/daily/klines/UNIBUSD/', 'data/futures/um/daily/klines/UNIUSDT/', 'data/futures/um/daily/klines/USDCUSDT/', 'data/futures/um/daily/klines/VETUSDT/', 'data/futures/um/daily/klines/WAVESBUSD/', 'data/futures/um/daily/klines/WAVESUSDT/', 'data/futures/um/daily/klines/WLDUSDT/', 'data/futures/um/daily/klines/WOOUSDT/', 'data/futures/um/daily/klines/XEMUSDT/', 'data/futures/um/daily/klines/XLMUSDT/', 'data/futures/um/daily/klines/XMRUSDT/', 'data/futures/um/daily/klines/XRPBUSD/', 'data/futures/um/daily/klines/XRPUSDT/', 'data/futures/um/daily/klines/XTZUSDT/', 'data/futures/um/daily/klines/XVGUSDT/', 'data/futures/um/daily/klines/XVSUSDT/', 'data/futures/um/daily/klines/YFIIUSDT/', 'data/futures/um/daily/klines/YFIUSDT/', 'data/futures/um/daily/klines/YGGUSDT/', 'data/futures/um/daily/klines/ZECUSDT/', 'data/futures/um/daily/klines/ZENUSDT/', 'data/futures/um/daily/klines/ZILUSDT/', 'data/futures/um/daily/klines/ZRXUSDT/']\n",
      "https://s3-ap-northeast-1.amazonaws.com/data.binance.vision?delimiter=/&prefix=data/futures/um/daily/klines/1000BTTCUSDT/1d/\n"
     ]
    },
    {
     "name": "stderr",
     "output_type": "stream",
     "text": [
      "c:\\Users\\jihyuk\\.conda\\envs\\fba\\lib\\site-packages\\urllib3\\connectionpool.py:1052: InsecureRequestWarning: Unverified HTTPS request is being made to host 'data.binance.vision'. Adding certificate verification is strongly advised. See: https://urllib3.readthedocs.io/en/1.26.x/advanced-usage.html#ssl-warnings\n",
      "  InsecureRequestWarning,\n",
      "c:\\Users\\jihyuk\\.conda\\envs\\fba\\lib\\site-packages\\urllib3\\connectionpool.py:1052: InsecureRequestWarning: Unverified HTTPS request is being made to host 'data.binance.vision'. Adding certificate verification is strongly advised. See: https://urllib3.readthedocs.io/en/1.26.x/advanced-usage.html#ssl-warnings\n",
      "  InsecureRequestWarning,\n",
      "c:\\Users\\jihyuk\\.conda\\envs\\fba\\lib\\site-packages\\urllib3\\connectionpool.py:1052: InsecureRequestWarning: Unverified HTTPS request is being made to host 'data.binance.vision'. Adding certificate verification is strongly advised. See: https://urllib3.readthedocs.io/en/1.26.x/advanced-usage.html#ssl-warnings\n",
      "  InsecureRequestWarning,\n",
      "c:\\Users\\jihyuk\\.conda\\envs\\fba\\lib\\site-packages\\urllib3\\connectionpool.py:1052: InsecureRequestWarning: Unverified HTTPS request is being made to host 'data.binance.vision'. Adding certificate verification is strongly advised. See: https://urllib3.readthedocs.io/en/1.26.x/advanced-usage.html#ssl-warnings\n",
      "  InsecureRequestWarning,\n"
     ]
    },
    {
     "name": "stdout",
     "output_type": "stream",
     "text": [
      "                    USDT_name              A          B          C          D  \\\n",
      "0  1000BTTCUSDT-1d-2022-01-26  1643155200000  0.0020890  0.0021000  0.0019630   \n",
      "1  1000BTTCUSDT-1d-2022-01-27  1643241600000  0.0020200  0.0024290  0.0018640   \n",
      "2  1000BTTCUSDT-1d-2022-01-28  1643328000000  0.0020520  0.0020960  0.0019680   \n",
      "3  1000BTTCUSDT-1d-2022-01-29  1643414400000  0.0020730  0.0021850  0.0020540   \n",
      "4  1000BTTCUSDT-1d-2022-01-30  1643500800000  0.0021490  0.0021640  0.0020670   \n",
      "\n",
      "           E           F              G                 H       I           J  \\\n",
      "0  0.0020200  3008436212  1643241599999   6137792.1776000   57521  1219794163   \n",
      "1  0.0020520  9755239817  1643327999999  20440816.9447480  115200  4347668349   \n",
      "2  0.0020730  3193788995  1643414399999   6503584.6852130   54764  1517782762   \n",
      "3  0.0021500  3397045959  1643500799999   7173612.4017120   56097  1554349277   \n",
      "4  0.0020900  2199008466  1643587199999   4646814.8665810   30062  1011233647   \n",
      "\n",
      "                 K  L  \n",
      "0  2493424.3237310  0  \n",
      "1  9108898.1666120  0  \n",
      "2  3091572.5511190  0  \n",
      "3  3284709.6687120  0  \n",
      "4  2136780.8593300  0  \n"
     ]
    },
    {
     "name": "stderr",
     "output_type": "stream",
     "text": [
      "c:\\Users\\jihyuk\\.conda\\envs\\fba\\lib\\site-packages\\urllib3\\connectionpool.py:1052: InsecureRequestWarning: Unverified HTTPS request is being made to host 'data.binance.vision'. Adding certificate verification is strongly advised. See: https://urllib3.readthedocs.io/en/1.26.x/advanced-usage.html#ssl-warnings\n",
      "  InsecureRequestWarning,\n"
     ]
    }
   ],
   "source": [
    "print(PublicData().USDT_list.load())\n",
    "print(PublicData().USDT_kline.load('1000BTTCUSDT'))"
   ]
  },
  {
   "cell_type": "code",
   "execution_count": null,
   "metadata": {},
   "outputs": [],
   "source": []
  }
 ],
 "metadata": {
  "kernelspec": {
   "display_name": "fba",
   "language": "python",
   "name": "python3"
  },
  "language_info": {
   "codemirror_mode": {
    "name": "ipython",
    "version": 3
   },
   "file_extension": ".py",
   "mimetype": "text/x-python",
   "name": "python",
   "nbconvert_exporter": "python",
   "pygments_lexer": "ipython3",
   "version": "3.7.16"
  },
  "orig_nbformat": 4
 },
 "nbformat": 4,
 "nbformat_minor": 2
}
