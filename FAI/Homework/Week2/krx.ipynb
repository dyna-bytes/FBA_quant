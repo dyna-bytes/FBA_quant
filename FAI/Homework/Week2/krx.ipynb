{
 "cells": [
  {
   "cell_type": "code",
   "execution_count": 262,
   "metadata": {},
   "outputs": [],
   "source": [
    "from abc import abstractmethod\n",
    "# from pykrx.website.comm.webio import Get, Post\n",
    "import requests\n",
    "import pandas as pd\n",
    "from pandas import DataFrame\n",
    "from datetime import datetime, timedelta\n",
    "import time"
   ]
  },
  {
   "cell_type": "code",
   "execution_count": 322,
   "metadata": {},
   "outputs": [],
   "source": [
    "class Post:\n",
    "    def __init__(self) -> None:\n",
    "        self.headers = {\"User-Agent\": \"Mozilla/5.0\"}\n",
    "\n",
    "    def read(self, **params):\n",
    "        # print(params)\n",
    "        resp = requests.post(self.url, headers=self.headers, data=params)\n",
    "        return resp.json()\n",
    "\n",
    "    @property\n",
    "    @abstractmethod\n",
    "    def url(self):\n",
    "        return NotImplementedError"
   ]
  },
  {
   "cell_type": "code",
   "execution_count": 315,
   "metadata": {},
   "outputs": [],
   "source": [
    "class WebAPI(Post):    \n",
    "    # read with period\n",
    "    def read_period(self, start, end, **params):\n",
    "        time.sleep(0.5)\n",
    "        delta = timedelta(days=365)\n",
    "        day = timedelta(days=1)\n",
    "        if start > end: return\n",
    "        elif start + delta < end:\n",
    "            curr_end = start + delta\n",
    "            params['strtDd'] = start.strftime(\"%Y%m%d\")\n",
    "            params['endDd'] = curr_end.strftime(\"%Y%m%d\")\n",
    "            result = super().read(**params)\n",
    "            result['output'] = self.read_period(curr_end + day, end, **params)['output'] \\\n",
    "                                + result['output']\n",
    "            return result\n",
    "        else:\n",
    "            params['strtDd'] = start.strftime(\"%Y%m%d\")\n",
    "            params['endDd'] = end.strftime(\"%Y%m%d\")\n",
    "            result = super().read(**params)\n",
    "            return result\n",
    "            \n",
    "    def read(self, **params):\n",
    "        result = None\n",
    "        params.update(bld=self.bld)\n",
    "\n",
    "        if not 'strtDd' in params or not 'endDd' in params:\n",
    "            return super().read(**params)\n",
    "\n",
    "        start_date = pd.to_datetime(params['strtDd'])\n",
    "        end_date = pd.to_datetime(params['endDd'])\n",
    "        return self.read_period(start_date, end_date, **params)\n",
    "        \n",
    "    @property\n",
    "    @abstractmethod\n",
    "    def bld(self):\n",
    "        return NotImplementedError\n",
    "\n",
    "    @property\n",
    "    def url(self):\n",
    "        return \"http://data.krx.co.kr/comm/bldAttendant/getJsonData.cmd\""
   ]
  },
  {
   "cell_type": "code",
   "execution_count": 316,
   "metadata": {},
   "outputs": [],
   "source": [
    "class 개별종목시세추이(WebAPI):\n",
    "    def load(self, stock_code: str, start: str, end: str):\n",
    "        result = self.read(isuCd=stock_code,\n",
    "                            strtDd=start,\n",
    "                            endDd=end)\n",
    "        return DataFrame(result['output'])\n",
    "    @property\n",
    "    def bld(self):\n",
    "        return \"dbms/MDC/STAT/standard/MDCSTAT01701\""
   ]
  },
  {
   "cell_type": "code",
   "execution_count": 317,
   "metadata": {},
   "outputs": [],
   "source": [
    "class 주식종목검색(WebAPI):\n",
    "    def search(self, searchText: str):\n",
    "        result = self.read(searchText=searchText,\n",
    "                            mktsel='ALL',\n",
    "                            typeNo='0')\n",
    "        return DataFrame(result['block1'])\n",
    "    @property\n",
    "    def bld(self):\n",
    "        return \"dbms/comm/finder/finder_stkisu\""
   ]
  },
  {
   "cell_type": "code",
   "execution_count": 318,
   "metadata": {},
   "outputs": [],
   "source": [
    "class KrxStock:\n",
    "    def get_stock_code(self, stock_name: str):\n",
    "        return 주식종목검색().search(stock_name)\n",
    "    def get_stock_OHLCV(self, stock_code: str, start: str, end: str):\n",
    "        return 개별종목시세추이().load(stock_code, start, end)"
   ]
  },
  {
   "cell_type": "code",
   "execution_count": 269,
   "metadata": {},
   "outputs": [],
   "source": [
    "class 개별지수종합정보(WebAPI):\n",
    "    def load(self, index_id: str, index_group_id, date: str) -> DataFrame:\n",
    "        result = self.read(indIdx2=index_id,\n",
    "                            indIdx=index_group_id,\n",
    "                            trdDd=date)\n",
    "        return DataFrame(result['output'])\n",
    "    @property\n",
    "    def bld(self):\n",
    "        return \"dbms/MDC/STAT/standard/MDCSTAT00601\""
   ]
  },
  {
   "cell_type": "code",
   "execution_count": 329,
   "metadata": {},
   "outputs": [],
   "source": [
    "class KrxIndex:\n",
    "    def __init__(self):\n",
    "        self.index_list = {\n",
    "            \"KOSPI\" : {\"index_id\": \"001\", \"index_group_id\": \"1\"}, \n",
    "            \"KOSPI 200\" : {\"index_id\": \"028\", \"index_group_id\": \"1\"}, \n",
    "            \"KOSDAQ\" : {\"index_id\": \"001\", \"index_group_id\": \"2\"}, \n",
    "            \"KOSDAQ 150\" : {\"index_id\": \"203\", \"index_group_id\": \"2\"}\n",
    "        }\n",
    "\n",
    "    def unpack_index_id(self, index_id: str, index_group_id: str):\n",
    "            return index_id, index_group_id\n",
    "\n",
    "    def get_index_constituents(self, index_name: str, date: str):\n",
    "        try:\n",
    "            index_id, index_group_id = self.unpack_index_id(**self.index_list[index_name])\n",
    "        except:\n",
    "            print(f\"Select index in {[key for key in self.index_list.keys()]}\")\n",
    "            return None\n",
    "        \n",
    "        data = 개별지수종합정보().load(index_id, index_group_id, date)\n",
    "        return data\n",
    "\n",
    "    def get_index_constituents_OHLCV(self, index_name: str, start: str, end: str):\n",
    "        start_date = pd.to_datetime(start)\n",
    "        end_date = pd.to_datetime(end)\n",
    "        delta = pd.to_timedelta('1 days')\n",
    "        result = pd.DataFrame()\n",
    "        result['stock_name'] = ''\n",
    "        while start_date <= end_date:\n",
    "            data = self.get_index_constituents(index_name, start)\n",
    "            for stock_name in data['ISU_ABBRV']:\n",
    "                full_code = KrxStock().get_stock_code(stock_name)['full_code'].iloc[0]\n",
    "                curr = start_date.strftime(\"%Y%m%d\")\n",
    "                result.at[-1,'stock_name'] = stock_name\n",
    "                result.append(KrxStock().get_stock_OHLCV(full_code, curr, curr))\n",
    "            start_date += delta\n",
    "\n",
    "        return result"
   ]
  },
  {
   "cell_type": "code",
   "execution_count": 335,
   "metadata": {},
   "outputs": [],
   "source": [
    "class WebSource():\n",
    "    def __init__(self):\n",
    "        self.krxStock = KrxStock()\n",
    "        self.krxIndex = KrxIndex()"
   ]
  },
  {
   "cell_type": "code",
   "execution_count": 338,
   "metadata": {},
   "outputs": [
    {
     "name": "stdout",
     "output_type": "stream",
     "text": [
      "{'searchText': '삼성전자', 'mktsel': 'ALL', 'typeNo': '0', 'bld': 'dbms/comm/finder/finder_stkisu'}\n",
      "      full_code short_code codeName marketCode marketName marketEngName ord1  \\\n",
      "0  KR7005930003     005930     삼성전자        STK       유가증권         KOSPI    1   \n",
      "1  KR7005931001     005935    삼성전자우        STK       유가증권         KOSPI    1   \n",
      "\n",
      "  ord2  \n",
      "0   16  \n",
      "1   16  \n",
      "{'isuCd': 'KR7005930003', 'strtDd': '20230818', 'endDd': '20230818', 'bld': 'dbms/MDC/STAT/standard/MDCSTAT01701'}\n",
      "       TRD_DD TDD_CLSPRC FLUC_TP_CD CMPPREVDD_PRC FLUC_RT TDD_OPNPRC  \\\n",
      "0  2023/08/18     66,300          2          -400   -0.60     66,000   \n",
      "\n",
      "  TDD_HGPRC TDD_LWPRC  ACC_TRDVOL       ACC_TRDVAL               MKTCAP  \\\n",
      "0    66,700    65,800  11,745,006  778,550,834,100  395,796,583,065,000   \n",
      "\n",
      "       LIST_SHRS  \n",
      "0  5,969,782,550  \n",
      "{'indIdx2': '001', 'indIdx': '1', 'trdDd': '20230818', 'bld': 'dbms/MDC/STAT/standard/MDCSTAT00601'}\n",
      "    ISU_SRT_CD ISU_ABBRV TDD_CLSPRC FLUC_TP_CD STR_CMP_PRC FLUC_RT  \\\n",
      "0       005930      삼성전자     66,300          2        -400   -0.60   \n",
      "1       373220  LG에너지솔루션    529,000          2     -11,000   -2.04   \n",
      "2       000660    SK하이닉스    117,200          1       2,400    2.09   \n",
      "3       207940  삼성바이오로직스    771,000          2      -1,000   -0.13   \n",
      "4       005490  POSCO홀딩스    549,000          2      -4,000   -0.72   \n",
      "..         ...       ...        ...        ...         ...     ...   \n",
      "826     004910     조광페인트      6,670          2        -260   -3.75   \n",
      "827     004960      한신공영      7,320          2         -10   -0.14   \n",
      "828     005030      부산주공        486          0           0    0.00   \n",
      "829     005110        한창        362          1          66   22.30   \n",
      "830     005320        국동        886          2         -17   -1.88   \n",
      "\n",
      "                  MKTCAP IDX_ID  \n",
      "0    395,796,583,065,000         \n",
      "1    123,786,000,000,000         \n",
      "2     85,321,877,178,000         \n",
      "3     54,875,154,000,000         \n",
      "4     46,429,605,270,000         \n",
      "..                   ...    ...  \n",
      "826       85,376,000,000         \n",
      "827       84,697,538,640         \n",
      "828       38,288,532,168         \n",
      "829       33,677,595,584         \n",
      "830       50,831,171,150         \n",
      "\n",
      "[831 rows x 8 columns]\n"
     ]
    }
   ],
   "source": [
    "ws = WebSource()\n",
    "print(ws.krxStock.get_stock_code('삼성전자'))\n",
    "print(ws.krxStock.get_stock_OHLCV(code, '20230818', '20230818'))\n",
    "print(ws.krxIndex.get_index_constituents('KOSPI', '20230818'))"
   ]
  }
 ],
 "metadata": {
  "kernelspec": {
   "display_name": "fba",
   "language": "python",
   "name": "python3"
  },
  "language_info": {
   "codemirror_mode": {
    "name": "ipython",
    "version": 3
   },
   "file_extension": ".py",
   "mimetype": "text/x-python",
   "name": "python",
   "nbconvert_exporter": "python",
   "pygments_lexer": "ipython3",
   "version": "3.7.16"
  },
  "orig_nbformat": 4
 },
 "nbformat": 4,
 "nbformat_minor": 2
}
