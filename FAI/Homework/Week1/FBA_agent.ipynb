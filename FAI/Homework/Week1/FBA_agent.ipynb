{
 "cells": [
  {
   "cell_type": "markdown",
   "metadata": {},
   "source": [
    "Problem 2. Make an agent to buy and sell stocks in python. For this problem, you need the\n",
    "FBA_agent.ipynb source code file.\n",
    "\n",
    "* (a) Make the ‘agent’ class with ‘credit’($1000) and ‘holdings’ as object variables.\n",
    "* (b) Make the ‘check’ method to print the ‘credit’ and ‘holdings’.\n",
    "* (c) Make the ‘buy’ method with ‘ticker’, ‘price’ and ‘quantity’ as object variables. Itis\n",
    "impossible to purchase if the total price exceeds the credit. The ‘credit’ must change at the\n",
    "time of purchase. The format of ‘holding’ must be list.\n",
    "* (d) Create a ‘sell’ method with ‘ticker’, ‘price’ and ‘quantity’ as object variables. It is\n",
    "impossible to sell if the agent doesn’t have the stock and the selling quantity exceeds the\n",
    "holding quantity. The ‘holdings’ and ‘credit’ must change at the time of selling.\n",
    "* (e) Create the ‘FBA_agent’ object, buy 5 AAPL for $135, buy 1 GOOGL for $2300, sell 3\n",
    "AAPL for $140 and check the credit and holdings"
   ]
  },
  {
   "cell_type": "code",
   "execution_count": 1,
   "metadata": {},
   "outputs": [],
   "source": [
    "from typing import Dict, List, Tuple"
   ]
  },
  {
   "cell_type": "code",
   "execution_count": 31,
   "metadata": {},
   "outputs": [],
   "source": [
    "class Agent:\n",
    "    def __init__(self) -> None:\n",
    "        self.credit = 1000\n",
    "        self.holdings:List = []\n",
    "\n",
    "    def check(self) -> None:\n",
    "        print(f\"check : {self.credit}\")\n",
    "        print(f\"holding : {self.holdings}\")\n",
    "\n",
    "    def buy(self, stock: List) -> bool:\n",
    "        ticker, price, quantity = stock\n",
    "        if self.credit < price * quantity:\n",
    "            print(\"The agent can't buy\")\n",
    "            return False\n",
    "        \n",
    "        self.credit -= price * quantity\n",
    "        self.holdings.append(stock)\n",
    "        return True        \n",
    "\n",
    "    def sell(self, stock: List) -> bool:\n",
    "        ticker, price, quantity = stock\n",
    "\n",
    "        for idx, [t, p, q] in enumerate(self.holdings):\n",
    "            if t == ticker and q >= quantity: \n",
    "                self.credit += price * quantity\n",
    "                self.holdings[idx][2] -= quantity\n",
    "\n",
    "                print(f\"The agent sells {quantity} {ticker} for {price}\")\n",
    "                return True\n",
    "        \n",
    "        print(\"The agent can't sell\")\n",
    "        return False"
   ]
  },
  {
   "cell_type": "code",
   "execution_count": 32,
   "metadata": {},
   "outputs": [
    {
     "name": "stdout",
     "output_type": "stream",
     "text": [
      "check : 325\n",
      "holding : [['AAPL', 135, 5]]\n",
      "The agent can't buy\n",
      "The agent sells 3 AAPL for 140\n",
      "check : 745\n",
      "holding : [['AAPL', 135, 2]]\n"
     ]
    }
   ],
   "source": [
    "FBA_agent = Agent()\n",
    "FBA_agent.buy(['AAPL', 135, 5])\n",
    "FBA_agent.check()\n",
    "FBA_agent.buy(['GOOGL', 2300, 1])\n",
    "FBA_agent.sell(['AAPL', 140, 3])\n",
    "FBA_agent.check()"
   ]
  },
  {
   "cell_type": "code",
   "execution_count": null,
   "metadata": {},
   "outputs": [],
   "source": []
  }
 ],
 "metadata": {
  "kernelspec": {
   "display_name": "fba",
   "language": "python",
   "name": "python3"
  },
  "language_info": {
   "codemirror_mode": {
    "name": "ipython",
    "version": 3
   },
   "file_extension": ".py",
   "mimetype": "text/x-python",
   "name": "python",
   "nbconvert_exporter": "python",
   "pygments_lexer": "ipython3",
   "version": "3.7.16"
  },
  "orig_nbformat": 4
 },
 "nbformat": 4,
 "nbformat_minor": 2
}
